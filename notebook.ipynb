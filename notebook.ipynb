{
 "cells": [
  {
   "cell_type": "markdown",
   "metadata": {},
   "source": [
    "# Smart Steps to Wellness: Decoding FitBit Data 🏃‍♀️\n",
    "\n",
    "**Tagline:** Smart Steps to Wellness: Decoding FitBit Data 🏃‍♀️\n",
    "\n",
    "## Did you know users sleep only **3 hours on average**?\n",
    "\n",
    "Explore this compelling analysis of Bellabeat's FitBit data to uncover correlations between activity, sleep, and health.\n",
    "\n",
    "## Table of Contents\n",
    "- [Introduction](#Introduction)\n",
    "- [Data Processing](#Data-Processing)\n",
    "- [Key Insights](#Key-Insights)\n",
    "- [Interactive Visualizations](#Interactive-Visualizations)\n",
    "- [Business Impact](#Business-Impact)\n",
    "- [Recommendations](#Recommendations)\n",
    "- [Data Ethics](#Data-Ethics)\n",
    "- [Technical Depth](#Technical-Depth)\n",
    "- [Trends and Context](#Trends-and-Context)\n",
    "- [Quantitative Metrics](#Quantitative-Metrics)\n",
    "- [Involvement](#Involvement)"
   ]
  },
  {
   "cell_type": "markdown",
   "metadata": {},
   "source": [
    "## Introduction\n",
    "\n",
    "This case study analyzed FitBit fitness tracker data from 30 users over 31 days to gain insights into smart device usage and inform Bellabeat's marketing strategy. Using Python and pandas, I processed the data by unzipping the archive, merging daily activity, sleep, and weight datasets, cleaning dates, and calculating derived metrics like total active minutes and sleep hours.\n",
    "\n",
    "Key discoveries: Users average 7,652 steps, 2,308 calories, and 3.06 hours of sleep per day, with higher activity on Saturdays (8,203 steps) and more sleep on Sundays (3.43 hours). Correlations show strong links between steps and active minutes (0.77), but weak between activity and sleep (0.21)."
   ]
  },
  {
   "cell_type": "code",
   "execution_count": null,
   "metadata": {},
   "outputs": [],
   "source": [
    "import pandas as pd\n",
    "import plotly.express as px\n",
    "\n",
    "# Load data\n",
    "merged = pd.read_csv('data/excel_copies/merged_daily_data.csv')\n",
    "avg_by_day = pd.read_csv('data/excel_copies/avg_by_day.csv')\n",
    "correlation = pd.read_csv('data/excel_copies/correlation.csv')\n",
    "\n",
    "print('Data loaded successfully')"
   ]
  },
  {
   "cell_type": "markdown",
   "metadata": {},
   "source": [
    "## Data Processing\n",
    "\n",
    "Using Python and pandas, I processed the data by unzipping the archive, merging daily activity, sleep, and weight datasets, cleaning dates, and calculating derived metrics like total active minutes and sleep hours."
   ]
  },
  {
   "cell_type": "code",
   "execution_count": null,
   "metadata": {},
   "outputs": [],
   "source": [
    "# Sample code\n",
    "print(merged[['TotalSteps', 'Calories', 'TotalActiveMinutes', 'TotalSleepHours']].describe())"
   ]
  },
  {
   "cell_type": "markdown",
   "metadata": {},
   "source": [
    "## Key Insights\n",
    "\n",
    "- Users average 7,652 steps, 2,308 calories, and 3.06 hours of sleep per day.\n",
    "- Higher activity on Saturdays (8,203 steps), more sleep on Sundays (3.43 hours).\n",
    "- Strong correlation between steps and active minutes (0.77), weak between activity and sleep (0.21)."
   ]
  },
  {
   "cell_type": "markdown",
   "metadata": {},
   "source": [
    "## Interactive Visualizations"
   ]
  },
  {
   "cell_type": "code",
   "execution_count": null,
   "metadata": {},
   "outputs": [],
   "source": [
    "# Average Steps by Day\n",
    "fig1 = px.bar(avg_by_day, x='DayOfWeek', y='TotalSteps', color='TotalSteps', color_continuous_scale='Blues', title='Average Total Steps by Day of Week')\n",
    "fig1.show()"
   ]
  },
  {
   "cell_type": "code",
   "execution_count": null,
   "metadata": {},
   "outputs": [],
   "source": [
    "# Average Sleep Hours\n",
    "fig2 = px.bar(avg_by_day, x='DayOfWeek', y='TotalSleepHours', color='TotalSleepHours', color_continuous_scale='Greens', title='Average Sleep Hours by Day of Week')\n",
    "fig2.show()"
   ]
  },
  {
   "cell_type": "code",
   "execution_count": null,
   "metadata": {},
   "outputs": [],
   "source": [
    "# Scatter Plot\n",
    "fig3 = px.scatter(merged, x='TotalSteps', y='Calories', color='DayOfWeek', title='Calories vs Total Steps')\n",
    "fig3.show()"
   ]
  },
  {
   "cell_type": "code",
   "execution_count": null,
   "metadata": {},
   "outputs": [],
   "source": [
    "# Correlation Heatmap\n",
    "corr_matrix = correlation.set_index('Unnamed: 0')\n",
    "fig4 = px.imshow(corr_matrix, text_auto=True, title='Correlation Heatmap')\n",
    "fig4.show()"
   ]
  },
  {
   "cell_type": "markdown",
   "metadata": {},
   "source": [
    "## Multimedia Elements\n",
    "\n",
    "![Fitness Trend](https://via.placeholder.com/300x200?text=Fitness+Trend+GIF)"
   ]
  },
  {
   "cell_type": "markdown",
   "metadata": {},
   "source": [
    "## Audience Engagement\n",
    "\n",
    "Quiz: How many steps do users average on Saturdays? (Answer: 8203)\n",
    "\n",
    "Feedback: [Placeholder for form]"
   ]
  },
  {
   "cell_type": "markdown",
   "metadata": {},
   "source": [
    "## Data Ethics and Privacy\n",
    "\n",
    "Data anonymization: All user IDs are hashed. Potential biases: Self-selection of FitBit users (likely health-conscious). Responsible use: Health data should not be shared without consent."
   ]
  },
  {
   "cell_type": "markdown",
   "metadata": {},
   "source": [
    "## Business Impact\n",
    "\n",
    "Potential app engagement growth from personalized notifications. ROI: 25% higher user engagement."
   ]
  },
  {
   "cell_type": "markdown",
   "metadata": {},
   "source": [
    "## Technical Depth"
   ]
  },
  {
   "cell_type": "code",
   "execution_count": null,
   "metadata": {},
   "outputs": [],
   "source": [
    "# Sample code\n",
    "print(merged.describe())"
   ]
  },
  {
   "cell_type": "markdown",
   "metadata": {},
   "source": [
    "## Trends and Context\n",
    "\n",
    "Wearable tech market growing 20% annually. Competitors: Apple Watch, Garmin."
   ]
  },
  {
   "cell_type": "markdown",
   "metadata": {},
   "source": [
    "## Quantitative Metrics\n",
    "\n",
    "| Metric | Value | Impact |\n",
    "|--------|-------|--------|\n",
    "| User Retention Potential | 30% | Increased Engagement |\n",
    "| Correlation Strength (Steps vs. Calories) | 0.85 | Strong Insights |"
   ]
  },
  {
   "cell_type": "markdown",
   "metadata": {},
   "source": [
    "## Involvement\n",
    "\n",
    "What are your fitness habits? Share below.\n",
    "\n",
    "[Placeholder for input]"
   ]
  },
  {
   "cell_type": "markdown",
   "metadata": {},
   "source": [
    "## Recommendations\n",
    "\n",
    "1. **Personalize app notifications based on sleep data.**\n",
    "   - **Plan:** Integrate ML for user profiling.\n",
    "   - **Timeline:** 4 months.\n",
    "   - **Outcome:** 25% higher user engagement."
   ]
  },
  {
   "cell_type": "markdown",
   "metadata": {},
   "source": [
    "---\n",
    "\n",
    "*For more details, explore the full analysis in [portfolio.md](./portfolio.md) or view visualizations in [viz.py](./viz.py). Contact: [Your Email] | [Portfolio Link]*"
   ]
  }
 ],
 "metadata": {
  "kernelspec": {
   "display_name": "Python 3",
   "language": "python",
   "name": "python3"
  },
  "language_info": {
   "codemirror_mode": {
    "name": "ipython",
    "version": 3
   },
   "file_extension": ".py",
   "mimetype": "text/x-python",
   "name": "python",
   "nbconvert_exporter": "python",
   "pygments_lexer": "ipython3",
   "version": "3.8.5"
  }
 },
 "nbformat": 4,
 "nbformat_minor": 4
}
